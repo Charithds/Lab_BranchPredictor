{
 "cells": [
  {
   "cell_type": "code",
   "execution_count": 1,
   "metadata": {
    "collapsed": true
   },
   "outputs": [],
   "source": [
    "import pandas as pd\n",
    "import numpy as np"
   ]
  },
  {
   "cell_type": "code",
   "execution_count": 8,
   "metadata": {},
   "outputs": [
    {
     "name": "stdout",
     "output_type": "stream",
     "text": [
      "<class 'pandas.core.frame.DataFrame'>\n",
      "RangeIndex: 838802 entries, 0 to 838801\n",
      "Data columns (total 2 columns):\n",
      "branch_id    838802 non-null int64\n",
      "taken        838802 non-null int64\n",
      "dtypes: int64(2)\n",
      "memory usage: 12.8 MB\n"
     ]
    }
   ],
   "source": [
    "data = pd.read_csv('../traces/matmul', header=None)\n",
    "data.columns = ['branch_id', 'taken']\n",
    "data.info()"
   ]
  },
  {
   "cell_type": "code",
   "execution_count": 49,
   "metadata": {},
   "outputs": [
    {
     "data": {
      "text/plain": [
       "False"
      ]
     },
     "execution_count": 49,
     "metadata": {},
     "output_type": "execute_result"
    }
   ],
   "source": [
    "data.iloc[0].taken == False"
   ]
  },
  {
   "cell_type": "code",
   "execution_count": 30,
   "metadata": {},
   "outputs": [
    {
     "data": {
      "text/plain": [
       "0"
      ]
     },
     "execution_count": 30,
     "metadata": {},
     "output_type": "execute_result"
    }
   ],
   "source": [
    "a = np.zeros(2**4, dtype=np.uint16)\n",
    "a[4]"
   ]
  },
  {
   "cell_type": "markdown",
   "metadata": {},
   "source": [
    "## 8192 Entry BHT (13-bit)"
   ]
  },
  {
   "cell_type": "code",
   "execution_count": 36,
   "metadata": {},
   "outputs": [],
   "source": [
    "class BHT:\n",
    "    def __init__(self, bits=13):\n",
    "        self.bits = bits\n",
    "        self.mask = 2**self.bits - 1\n",
    "        self.table = np.zeros(2**self.bits, dtype=np.bool)\n",
    "    \n",
    "    def key(self, branch_id):\n",
    "        return branch_id & self.mask\n",
    "        \n",
    "    def update(self, branch_id, value):\n",
    "        self.table[self.key(branch_id)] = value\n",
    "    \n",
    "    def get(self, branch_id):\n",
    "        return self.table[self.key(branch_id)]"
   ]
  },
  {
   "cell_type": "code",
   "execution_count": 41,
   "metadata": {},
   "outputs": [
    {
     "name": "stdout",
     "output_type": "stream",
     "text": [
      "False\n",
      "False\n"
     ]
    }
   ],
   "source": [
    "x = BHT()\n",
    "print(x.get(6))\n",
    "x.update(6, 0)\n",
    "print(x.get(6))"
   ]
  },
  {
   "cell_type": "code",
   "execution_count": 55,
   "metadata": {},
   "outputs": [
    {
     "name": "stdout",
     "output_type": "stream",
     "text": [
      "838802 140128\n",
      "16.70573031537836\n"
     ]
    }
   ],
   "source": [
    "bht = BHT()\n",
    "total_predictions, mispredictions = (data.shape[0],0)\n",
    "\n",
    "for i in range(data.shape[0]):\n",
    "    branch_id = data.iloc[i].branch_id\n",
    "    taken = data.iloc[i].taken\n",
    "    if bht.get(branch_id) != taken:\n",
    "        mispredictions = mispredictions + 1\n",
    "        bht.update(branch_id,taken)\n",
    "        \n",
    "print(total_predictions, mispredictions)\n",
    "print(mispredictions/total_predictions*100)"
   ]
  },
  {
   "cell_type": "code",
   "execution_count": 103,
   "metadata": {},
   "outputs": [],
   "source": [
    "class BHT_2:\n",
    "    def __init__(self, bits=12):\n",
    "        self.bits = bits\n",
    "        self.mask = 2**self.bits - 1\n",
    "        self.table = np.zeros(2**self.bits, dtype=np.uint8)\n",
    "        self.states = {(0,0): 0, (0,1): 1,\n",
    "                       (1,0): 0, (1,1): 3,\n",
    "                       (2,0): 0, (2,1): 3,\n",
    "                       (3,0): 2, (3,1): 3}\n",
    "    \n",
    "    def key(self, branch_id):\n",
    "        return branch_id & self.mask\n",
    "        \n",
    "    def update(self, branch_id, value):\n",
    "        self.table[self.key(branch_id)] = self.states[self.table[self.key(branch_id)], value]\n",
    "    \n",
    "    def get(self, branch_id):\n",
    "        return self.table[self.key(branch_id)]//2"
   ]
  },
  {
   "cell_type": "code",
   "execution_count": 114,
   "metadata": {},
   "outputs": [
    {
     "name": "stdout",
     "output_type": "stream",
     "text": [
      "15.868822439622225\n"
     ]
    }
   ],
   "source": [
    "bht = BHT_2()\n",
    "iters = data.shape[0]\n",
    "total_predictions, mispredictions = (iters,0)#(data.shape[0],0)\n",
    "\n",
    "for i in range(iters):\n",
    "    branch_id = data.iloc[i].branch_id\n",
    "    taken = data.iloc[i].taken\n",
    "    if bht.get(branch_id) != taken:\n",
    "        mispredictions = mispredictions + 1\n",
    "    bht.update(branch_id,taken)\n",
    "        \n",
    "# print(total_predictions, mispredictions)\n",
    "print(mispredictions/total_predictions*100)"
   ]
  },
  {
   "cell_type": "code",
   "execution_count": 147,
   "metadata": {},
   "outputs": [],
   "source": [
    "class BHT_2_2:\n",
    "    def __init__(self, bits=10):\n",
    "        self.bits = bits\n",
    "        self.mask = 2**self.bits - 1\n",
    "        self.table = np.zeros([2**self.bits, 4], dtype=np.uint8)\n",
    "        self.states = {(0,0): 0, (0,1): 1,\n",
    "                       (1,0): 0, (1,1): 3,\n",
    "                       (2,0): 0, (2,1): 3,\n",
    "                       (3,0): 2, (3,1): 3}\n",
    "        self.global_history = np.zeros(1, dtype=np.uint8)\n",
    "    \n",
    "    def key(self, branch_id):\n",
    "        return branch_id & self.mask\n",
    "        \n",
    "    def update(self, branch_id, value):\n",
    "        self.table[self.key(branch_id), self.global_history[0]] = self.states[self.table[self.key(branch_id), self.global_history[0]], value]\n",
    "        self.global_history[0] = (self.global_history << 1 | value) % 4\n",
    "    \n",
    "    def get(self, branch_id):\n",
    "        return self.table[self.key(branch_id), self.global_history[0]]//2"
   ]
  },
  {
   "cell_type": "code",
   "execution_count": 149,
   "metadata": {},
   "outputs": [
    {
     "name": "stdout",
     "output_type": "stream",
     "text": [
      "14.709430831113899\n"
     ]
    }
   ],
   "source": [
    "bht = BHT_2_2()\n",
    "iters = data.shape[0]\n",
    "total_predictions, mispredictions = (iters,0)#(data.shape[0],0)\n",
    "\n",
    "for i in range(iters):\n",
    "    branch_id = data.iloc[i].branch_id\n",
    "    taken = data.iloc[i].taken\n",
    "    if bht.get(branch_id) != taken:\n",
    "        mispredictions = mispredictions + 1\n",
    "    bht.update(branch_id,taken)\n",
    "        \n",
    "# print(total_predictions, mispredictions)\n",
    "print(mispredictions/total_predictions*100)"
   ]
  },
  {
   "cell_type": "code",
   "execution_count": 131,
   "metadata": {},
   "outputs": [
    {
     "data": {
      "text/plain": [
       "0.0"
      ]
     },
     "execution_count": 131,
     "metadata": {},
     "output_type": "execute_result"
    }
   ],
   "source": [
    "a = np.zeros([4,2])\n",
    "a[3][0]"
   ]
  },
  {
   "cell_type": "code",
   "execution_count": 122,
   "metadata": {},
   "outputs": [
    {
     "data": {
      "text/plain": [
       "array([255], dtype=uint8)"
      ]
     },
     "execution_count": 122,
     "metadata": {},
     "output_type": "execute_result"
    }
   ],
   "source": [
    "a[0] = a[0] << 1 | 1\n",
    "a"
   ]
  },
  {
   "cell_type": "code",
   "execution_count": 84,
   "metadata": {},
   "outputs": [
    {
     "data": {
      "text/plain": [
       "1"
      ]
     },
     "execution_count": 84,
     "metadata": {},
     "output_type": "execute_result"
    }
   ],
   "source": [
    "2//2"
   ]
  },
  {
   "cell_type": "code",
   "execution_count": 67,
   "metadata": {},
   "outputs": [
    {
     "data": {
      "text/plain": [
       "6"
      ]
     },
     "execution_count": 67,
     "metadata": {},
     "output_type": "execute_result"
    }
   ],
   "source": [
    "3<<1"
   ]
  }
 ],
 "metadata": {
  "kernelspec": {
   "display_name": "Python 3",
   "language": "python",
   "name": "python3"
  },
  "language_info": {
   "codemirror_mode": {
    "name": "ipython",
    "version": 3
   },
   "file_extension": ".py",
   "mimetype": "text/x-python",
   "name": "python",
   "nbconvert_exporter": "python",
   "pygments_lexer": "ipython3",
   "version": "3.6.2"
  }
 },
 "nbformat": 4,
 "nbformat_minor": 2
}
