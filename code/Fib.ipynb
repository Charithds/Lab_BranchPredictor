{
 "cells": [
  {
   "cell_type": "code",
   "execution_count": 1,
   "metadata": {
    "collapsed": true
   },
   "outputs": [],
   "source": [
    "import pandas as pd\n",
    "import numpy as np\n",
    "import time"
   ]
  },
  {
   "cell_type": "code",
   "execution_count": 2,
   "metadata": {},
   "outputs": [
    {
     "name": "stdout",
     "output_type": "stream",
     "text": [
      "<class 'pandas.core.frame.DataFrame'>\n",
      "RangeIndex: 4241389 entries, 0 to 4241388\n",
      "Data columns (total 2 columns):\n",
      "branch_id    int64\n",
      "taken        int64\n",
      "dtypes: int64(2)\n",
      "memory usage: 64.7 MB\n"
     ]
    }
   ],
   "source": [
    "data = pd.read_csv('../traces/fib30', header=None)\n",
    "data.columns = ['branch_id', 'taken']\n",
    "data.info()"
   ]
  },
  {
   "cell_type": "markdown",
   "metadata": {},
   "source": [
    "## 8192 Entry BHT (13-bit)"
   ]
  },
  {
   "cell_type": "code",
   "execution_count": 3,
   "metadata": {
    "collapsed": true
   },
   "outputs": [],
   "source": [
    "class BHT_core:\n",
    "    def __init__(self, bits=13):\n",
    "        self.bits = bits\n",
    "        self.mask = 2**self.bits - 1\n",
    "        self.table = np.zeros(2**self.bits, dtype=np.bool)\n",
    "    \n",
    "    def key(self, branch_id):\n",
    "        return branch_id & self.mask\n",
    "        \n",
    "    def update(self, branch_id, value):\n",
    "        self.table[self.key(branch_id)] = value\n",
    "    \n",
    "    def get(self, branch_id):\n",
    "        return self.table[self.key(branch_id)]"
   ]
  },
  {
   "cell_type": "code",
   "execution_count": 4,
   "metadata": {
    "collapsed": true
   },
   "outputs": [],
   "source": [
    "class BHT_2_core:\n",
    "    def __init__(self, bits=12):\n",
    "        self.bits = bits\n",
    "        self.mask = 2**self.bits - 1\n",
    "        self.table = np.zeros(2**self.bits, dtype=np.uint8)\n",
    "        self.states = {(0,0): 0, (0,1): 1,\n",
    "                       (1,0): 0, (1,1): 3,\n",
    "                       (2,0): 0, (2,1): 3,\n",
    "                       (3,0): 2, (3,1): 3}\n",
    "    \n",
    "    def key(self, branch_id):\n",
    "        return branch_id & self.mask\n",
    "        \n",
    "    def update(self, branch_id, value):\n",
    "        self.table[self.key(branch_id)] = self.states[self.table[self.key(branch_id)], value]\n",
    "    \n",
    "    def get(self, branch_id):\n",
    "        return self.table[self.key(branch_id)]//2"
   ]
  },
  {
   "cell_type": "code",
   "execution_count": 5,
   "metadata": {
    "collapsed": true
   },
   "outputs": [],
   "source": [
    "class BHT_2_2_core:\n",
    "    def __init__(self, bits=10):\n",
    "        self.bits = bits\n",
    "        self.mask = 2**self.bits - 1\n",
    "        self.table = np.zeros([2**self.bits, 4], dtype=np.uint8)\n",
    "        self.states = {(0,0): 0, (0,1): 1,\n",
    "                       (1,0): 0, (1,1): 3,\n",
    "                       (2,0): 0, (2,1): 3,\n",
    "                       (3,0): 2, (3,1): 3}\n",
    "        self.global_history = np.zeros(1, dtype=np.uint8)\n",
    "    \n",
    "    def key(self, branch_id):\n",
    "        return branch_id & self.mask\n",
    "        \n",
    "    def update(self, branch_id, value):\n",
    "        self.table[self.key(branch_id), self.global_history[0]] = self.states[self.table[self.key(branch_id), self.global_history[0]], value]\n",
    "        self.global_history[0] = (self.global_history << 1 | value) % 4\n",
    "    \n",
    "    def get(self, branch_id):\n",
    "        return self.table[self.key(branch_id), self.global_history[0]]//2"
   ]
  },
  {
   "cell_type": "code",
   "execution_count": 6,
   "metadata": {
    "collapsed": true
   },
   "outputs": [],
   "source": [
    "class BHT:\n",
    "    def __init__(self, dataset, bht_type='BHT'):\n",
    "        if bht_type.upper() == 'BHT':\n",
    "            self.bht = BHT_core()\n",
    "        elif bht_type.upper() == 'BHT_2':\n",
    "            self.bht = BHT_2_core()\n",
    "        elif bht_type.upper() == 'BHT_2_2':\n",
    "            self.bht = BHT_2_2_core()\n",
    "        self.codebase = dataset\n",
    "    \n",
    "    def run(self):\n",
    "        bht = self.bht\n",
    "        codebase = self.codebase\n",
    "        total_predictions, mispredictions = (codebase.shape[0],0)\n",
    "        start_time = time.clock()\n",
    "        for i in range(codebase.shape[0]):\n",
    "            branch_id = codebase.iloc[i].branch_id\n",
    "            taken = codebase.iloc[i].taken\n",
    "            if bht.get(branch_id) != taken:\n",
    "                mispredictions = mispredictions + 1\n",
    "            bht.update(branch_id,taken)\n",
    "        end_time = time.clock()\n",
    "        \n",
    "        print('Total branches:        ', total_predictions)\n",
    "        print('Unique branches:       ', codebase.branch_id.value_counts().shape[0])\n",
    "        print('Correctly predicted:   ', total_predictions - mispredictions)\n",
    "        print('Incorrectly predicted: ', mispredictions)\n",
    "        print('Total time elaped:      %.2f seconds' % (end_time-start_time))"
   ]
  },
  {
   "cell_type": "code",
   "execution_count": 7,
   "metadata": {},
   "outputs": [
    {
     "name": "stdout",
     "output_type": "stream",
     "text": [
      "Total branches:         4241389\n",
      "Unique branches:        491\n",
      "Correctly predicted:    2480712\n",
      "Incorrectly predicted:  1760677\n",
      "Total time elaped:      1980.39 seconds\n"
     ]
    }
   ],
   "source": [
    "test = BHT(dataset=data, bht_type='bht')\n",
    "test.run()"
   ]
  },
  {
   "cell_type": "code",
   "execution_count": 8,
   "metadata": {},
   "outputs": [
    {
     "name": "stdout",
     "output_type": "stream",
     "text": [
      "Total branches:         4241389\n",
      "Unique branches:        491\n",
      "Correctly predicted:    2649632\n",
      "Incorrectly predicted:  1591757\n",
      "Total time elaped:      1708.99 seconds\n"
     ]
    }
   ],
   "source": [
    "test = BHT(dataset=data, bht_type='bht_2')\n",
    "test.run()"
   ]
  },
  {
   "cell_type": "code",
   "execution_count": 9,
   "metadata": {},
   "outputs": [
    {
     "name": "stdout",
     "output_type": "stream",
     "text": [
      "Total branches:         4241389\n",
      "Unique branches:        491\n",
      "Correctly predicted:    3227031\n",
      "Incorrectly predicted:  1014358\n",
      "Total time elaped:      1388.61 seconds\n"
     ]
    }
   ],
   "source": [
    "test = BHT(dataset=data, bht_type='bht_2_2')\n",
    "test.run()"
   ]
  }
 ],
 "metadata": {
  "kernelspec": {
   "display_name": "Python 3",
   "language": "python",
   "name": "python3"
  },
  "language_info": {
   "codemirror_mode": {
    "name": "ipython",
    "version": 3
   },
   "file_extension": ".py",
   "mimetype": "text/x-python",
   "name": "python",
   "nbconvert_exporter": "python",
   "pygments_lexer": "ipython3",
   "version": "3.6.2"
  }
 },
 "nbformat": 4,
 "nbformat_minor": 2
}
